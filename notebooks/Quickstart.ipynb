{
 "cells": [
  {
   "cell_type": "markdown",
   "id": "7fb27b941602401d91542211134fc71a",
   "metadata": {},
   "source": [
    "# lib_cli_exit_tools — Quickstart\n",
    "\n",
    "This notebook demonstrates basic usage of `lib_cli_exit_tools` inside a Jupyter environment.\n",
    "\n",
    "It adjusts `sys.path` to import from the repository `src/` directory so you can run it directly on Binder or locally without installing the package first.\n"
   ]
  },
  {
   "cell_type": "code",
   "execution_count": null,
   "id": "acae54e37e7d407bbb7b55eff062a284",
   "metadata": {},
   "outputs": [],
   "source": [
    "import os\n",
    "import sys\n",
    "import platform\n",
    "\n",
    "# Allow importing from this repo's src/ without installing\n",
    "sys.path.insert(0, os.path.abspath(\"src\"))\n",
    "\n",
    "from lib_cli_exit_tools import get_system_exit_code, print_exception_message, config\n",
    "\n",
    "print(\"Python:\", platform.python_version())\n",
    "print(\"Import OK; traceback default:\", config.traceback)"
   ]
  },
  {
   "cell_type": "markdown",
   "id": "9a63283cbaf04dbcab1f6479b197f3a8",
   "metadata": {},
   "source": [
    "## Map exceptions to exit codes\n",
    "Use `get_system_exit_code(e)` to map a Python exception to an OS-friendly exit code.\n"
   ]
  },
  {
   "cell_type": "code",
   "execution_count": null,
   "id": "8dd0d8092fe74a7c96281538738b07e2",
   "metadata": {},
   "outputs": [],
   "source": [
    "try:\n",
    "    raise FileNotFoundError(\"missing.txt\")\n",
    "except Exception as e:\n",
    "    code = get_system_exit_code(e)\n",
    "    print(\"Mapped exit code:\", code)"
   ]
  },
  {
   "cell_type": "markdown",
   "id": "72eea5119410473aa328ad9291626812",
   "metadata": {},
   "source": [
    "## Print concise error messages\n",
    "Toggle `config.traceback` to include or hide tracebacks in error output.\n"
   ]
  },
  {
   "cell_type": "code",
   "execution_count": null,
   "id": "8edb47106e1a46a883d545849b8ab81b",
   "metadata": {},
   "outputs": [],
   "source": [
    "config.traceback = False\n",
    "try:\n",
    "    raise PermissionError(\"no access\")\n",
    "except Exception as _:\n",
    "    # Emits a concise one-line message to stdout/stderr (depending on implementation)\n",
    "    print_exception_message()"
   ]
  },
  {
   "cell_type": "markdown",
   "id": "10185d26023b46108eb7d9f57d49d2b3",
   "metadata": {},
   "source": [
    "## Notes\n",
    "- In applications, call `raise SystemExit(get_system_exit_code(e))` to terminate with the mapped exit code.\n",
    "- For CLI usage, see `lib_cli_exit_tools --help` outside the notebook.\n"
   ]
  }
 ],
 "metadata": {
  "kernelspec": {
   "display_name": "Python 3",
   "language": "python",
   "name": "python3"
  },
  "language_info": {
   "name": "python",
   "version": "3.12"
  }
 },
 "nbformat": 4,
 "nbformat_minor": 5
}
