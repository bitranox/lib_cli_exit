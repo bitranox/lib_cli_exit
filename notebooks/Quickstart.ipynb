{
 "cells": [
  {
   "cell_type": "markdown",
   "id": "7fb27b941602401d91542211134fc71a",
   "metadata": {},
   "source": [
    "# lib_cli_exit_tools — Quickstart\n",
    "\n",
    "This notebook demonstrates basic usage of `lib_cli_exit_tools` inside a Jupyter environment.\n",
    "\n",
    "It adjusts `sys.path` to import from the repository `src/` directory so you can run it directly on Binder or locally without installing the package first.\n"
   ]
  },
  {
   "cell_type": "code",
   "execution_count": null,
   "id": "acae54e37e7d407bbb7b55eff062a284",
   "metadata": {},
   "outputs": [],
   "source": [
    "import sys\n",
    "import os\n",
    "import platform\n",
    "import subprocess\n",
    "from pathlib import Path\n",
    "import importlib\n",
    "\n",
    "\n",
    "# Ensure this notebook can import from the repo's src/ regardless of CWD\n",
    "def _ensure_src_on_sys_path(pkg: str = \"lib_cli_exit_tools\") -> str:\n",
    "    here = Path.cwd()\n",
    "    # Common locations when notebooks/ is used\n",
    "    for src in (here / \"src\", here.parent / \"src\", here.parent.parent / \"src\"):\n",
    "        if (src / pkg).is_dir():\n",
    "            src = src.resolve()\n",
    "            if str(src) not in sys.path:\n",
    "                sys.path.insert(0, str(src))\n",
    "            return str(src)\n",
    "    # Fallback: search upwards for a pyproject root\n",
    "    for p in (here, *here.parents):\n",
    "        if (p / \"pyproject.toml\").exists() and (p / \"src\" / pkg).is_dir():\n",
    "            src = (p / \"src\").resolve()\n",
    "            if str(src) not in sys.path:\n",
    "                sys.path.insert(0, str(src))\n",
    "            return str(src)\n",
    "    raise ModuleNotFoundError(f\"Cannot find '{pkg}' under a 'src' directory from {here}. Run 'pip install -e .[dev]' or adjust sys.path manually.\")\n",
    "\n",
    "\n",
    "SRC_DIR = _ensure_src_on_sys_path()\n",
    "ROOT_DIR = str((Path(SRC_DIR)).parent)\n",
    "\n",
    "try:\n",
    "    m = importlib.import_module(\"lib_cli_exit_tools\")\n",
    "except ModuleNotFoundError:\n",
    "    print(\"[setup] Installing lib_cli_exit_tools into this kernel (editable)\")\n",
    "    subprocess.check_call([sys.executable, \"-m\", \"pip\", \"install\", \"-e\", ROOT_DIR])\n",
    "    m = importlib.import_module(\"lib_cli_exit_tools\")\n",
    "get_system_exit_code = m.get_system_exit_code\n",
    "print_exception_message = m.print_exception_message\n",
    "config = m.config\n",
    "\n",
    "print(\"Python:\", platform.python_version())\n",
    "print(\"Import OK; traceback default:\", config.traceback)"
   ]
  },
  {
   "cell_type": "markdown",
   "id": "8763a12b2bbd4a93a75aff182afb95dc",
   "metadata": {},
   "source": [
    "## Try CLI commands\n",
    "This cell attempts to run the CLI via module (`python -m`) and, if available, all console script aliases.\n\n",
    "If the console scripts are not on PATH, set `DO_INSTALL = True` to install the package in-place inside the notebook kernel (requires network).\n"
   ]
  },
  {
   "cell_type": "code",
   "execution_count": null,
   "id": "7623eae2785240b9bd12b16a66d81610",
   "metadata": {},
   "outputs": [],
   "source": [
    "import shutil\n",
    "import subprocess\n",
    "\n",
    "\n",
    "def run_cmd(cmd: list[str], *, use_src: bool = True) -> int:\n",
    "    print(\"$\", \" \".join(cmd))\n",
    "    env = os.environ.copy()\n",
    "    if use_src and \"SRC_DIR\" in globals():\n",
    "        env[\"PYTHONPATH\"] = globals()[\"SRC_DIR\"] + os.pathsep + env.get(\"PYTHONPATH\", \"\")\n",
    "    try:\n",
    "        proc = subprocess.run(cmd, stdout=subprocess.PIPE, stderr=subprocess.STDOUT, text=True, env=env)\n",
    "        print(proc.stdout)\n",
    "        print(f\"[exit] {proc.returncode}\")\n",
    "        return proc.returncode\n",
    "    except FileNotFoundError:\n",
    "        print(\"[skip] command not found\")\n",
    "        return 127\n",
    "\n",
    "\n",
    "DO_INSTALL = True  # auto-install in this kernel for CLI demo\n",
    "if DO_INSTALL:\n",
    "    run_cmd([sys.executable, \"-m\", \"pip\", \"install\", \"-e\", ROOT_DIR])\n",
    "\n",
    "# Always try module entry\n",
    "run_cmd([sys.executable, \"-m\", \"lib_cli_exit_tools\", \"--help\"])\n",
    "run_cmd([sys.executable, \"-m\", \"lib_cli_exit_tools\", \"info\"])\n",
    "run_cmd([sys.executable, \"-m\", \"lib_cli_exit_tools\", \"--version\"])\n",
    "\n",
    "# Try console script aliases if present on PATH\n",
    "for name in (\"lib_cli_exit_tools\", \"cli-exit-tools\", \"lib-cli-exit-tools\"):\n",
    "    if shutil.which(name):\n",
    "        run_cmd([name, \"--help\"])\n",
    "    else:\n",
    "        print(f\"[skip] {name} not on PATH; set DO_INSTALL=True to enable\")"
   ]
  },
  {
   "cell_type": "markdown",
   "id": "9a63283cbaf04dbcab1f6479b197f3a8",
   "metadata": {},
   "source": [
    "## Map exceptions to exit codes\n",
    "Use `get_system_exit_code(e)` to map a Python exception to an OS-friendly exit code.\n"
   ]
  },
  {
   "cell_type": "code",
   "execution_count": null,
   "id": "8dd0d8092fe74a7c96281538738b07e2",
   "metadata": {},
   "outputs": [],
   "source": [
    "try:\n",
    "    raise FileNotFoundError(\"missing.txt\")\n",
    "except Exception as e:\n",
    "    code = get_system_exit_code(e)\n",
    "    print(\"Mapped exit code:\", code)"
   ]
  },
  {
   "cell_type": "markdown",
   "id": "72eea5119410473aa328ad9291626812",
   "metadata": {},
   "source": [
    "## Print concise error messages\n",
    "Toggle `config.traceback` to include or hide tracebacks in error output.\n"
   ]
  },
  {
   "cell_type": "code",
   "execution_count": null,
   "id": "8edb47106e1a46a883d545849b8ab81b",
   "metadata": {},
   "outputs": [],
   "source": [
    "config.traceback = False\n",
    "try:\n",
    "    raise PermissionError(\"no access\")\n",
    "except Exception as _:\n",
    "    # Emits a concise one-line message to stdout/stderr (depending on implementation)\n",
    "    print_exception_message()"
   ]
  },
  {
   "cell_type": "markdown",
   "id": "10185d26023b46108eb7d9f57d49d2b3",
   "metadata": {},
   "source": [
    "## Notes\n",
    "- In applications, call `raise SystemExit(get_system_exit_code(e))` to terminate with the mapped exit code.\n",
    "- For CLI usage, see `lib_cli_exit_tools --help` outside the notebook.\n"
   ]
  }
 ],
 "metadata": {
  "kernelspec": {
   "display_name": "Python 3",
   "language": "python",
   "name": "python3"
  },
  "language_info": {
   "name": "python",
   "version": "3.12"
  }
 },
 "nbformat": 4,
 "nbformat_minor": 5
}
