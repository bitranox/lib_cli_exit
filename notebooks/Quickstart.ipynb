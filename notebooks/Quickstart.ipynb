#%%
# update pip and setuptools
import sys
!{sys.executable} -m pip install --upgrade pip
!{sys.executable} -m pip install --upgrade setuptools

# install cli_exit_tools from pypi
!{sys.executable} -m pip install --upgrade cli_exit_tools

# install cli_exit_tools from github
!{sys.executable} -m pip install --upgrade git+https://github.com/bitranox/lib_cli_exit_tools.git
#%%
import lib_cli_exit_tools
!lib_cli_exit_tools --version
!lib_cli_exit_tools --help
#%%
import lib_cli_exit_tools

lib_cli_exit_tools.config.traceback = False  # show short messages
try:
    raise FileNotFoundError("missing.txt")
except Exception as e:
    code = lib_cli_exit_tools.get_system_exit_code(e)   # 2 on POSIX
    lib_cli_exit_tools.print_exception_message()        # prints: FileNotFoundError: missing.txt
    raise SystemExit(code)
