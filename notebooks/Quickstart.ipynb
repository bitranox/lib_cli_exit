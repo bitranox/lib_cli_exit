{
  "cells": [
    {
      "cell_type": "markdown",
      "metadata": {},
      "source": [
        "# lib_cli_exit_tools Quickstart\n",
        "\n",
        "Install the package (from PyPI or GitHub), then try the CLI and API examples below."
      ]
    },
    {
      "cell_type": "markdown",
      "metadata": {},
      "source": [
        "## 1) Install latest from GitHub (default)"
      ]
    },
    {
      "cell_type": "code",
      "execution_count": null,
      "metadata": {},
      "outputs": [],
      "source": [
        "# update pip and setuptools\n",
        "!{sys.executable} -m pip install --upgrade pip\n",
        "!{sys.executable} -m pip install --upgrade setuptools\n",
        "\n",
        "# install lib_cli_exit_tools from GitHub (default)\n",
        "!{sys.executable} -m pip install --upgrade git+https://github.com/bitranox/lib_cli_exit_tools.git\n"
      ]
    },
    {
      "cell_type": "markdown",
      "metadata": {},
      "source": [
        "## Or: Install from PyPI (alternative)\n",
        "Uncomment and run the cell below if you prefer the PyPI release."
      ]
    },
    {
      "cell_type": "code",
      "execution_count": null,
      "metadata": {},
      "outputs": [],
      "source": [
        "# !{sys.executable} -m pip install --upgrade lib_cli_exit_tools\n"
      ]
    },
    {
      "cell_type": "markdown",
      "metadata": {},
      "source": [
        "## 2) CLI: version and help"
      ]
    },
    {
      "cell_type": "code",
      "execution_count": null,
      "metadata": {},
      "outputs": [],
      "source": [
        "!lib_cli_exit_tools --version\n",
        "!lib_cli_exit_tools --help\n"
      ]
    },
    {
      "cell_type": "markdown",
      "metadata": {},
      "source": [
        "## 3) Library usage: map exceptions to exit codes"
      ]
    },
    {
      "cell_type": "code",
      "execution_count": null,
      "metadata": {},
      "outputs": [],
      "source": [
        "import lib_cli_exit_tools\n",
        "\n",
        "# show short messages\n",
        "lib_cli_exit_tools.config.traceback = False\n",
        "try:\n",
        "    raise FileNotFoundError(\"missing.txt\")\n",
        "except Exception as e:\n",
        "    code = lib_cli_exit_tools.get_system_exit_code(e)   # 2 on POSIX\n",
        "    lib_cli_exit_tools.print_exception_message()        # prints: FileNotFoundError: missing.txt\n",
        "    # In a real CLI you might exit with the code.\n",
        "    # In this notebook we just display it to keep execution green.\n",
        "    print(f\"Exit code would be: {code}\")\n"
      ]
    }
  ],
  "metadata": {
    "kernelspec": {
      "display_name": "Python 3",
      "language": "python",
      "name": "python3"
    },
    "language_info": {
      "name": "python",
      "version": "3"
    }
  },
  "nbformat": 4,
  "nbformat_minor": 5
}
